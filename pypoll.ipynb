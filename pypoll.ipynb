{
 "cells": [
  {
   "cell_type": "code",
   "execution_count": 1,
   "metadata": {},
   "outputs": [],
   "source": [
    "import os"
   ]
  },
  {
   "cell_type": "code",
   "execution_count": 2,
   "metadata": {},
   "outputs": [],
   "source": [
    "import csv"
   ]
  },
  {
   "cell_type": "code",
   "execution_count": 3,
   "metadata": {},
   "outputs": [
    {
     "data": {
      "text/plain": [
       "'C:\\\\Users\\\\User\\\\Desktop\\\\python-challenge'"
      ]
     },
     "execution_count": 3,
     "metadata": {},
     "output_type": "execute_result"
    }
   ],
   "source": [
    "os.getcwd()"
   ]
  },
  {
   "cell_type": "code",
   "execution_count": 4,
   "metadata": {},
   "outputs": [],
   "source": [
    "file_path = os.path.join(os.getcwd(), \"Resources\", \"election_data.csv\")"
   ]
  },
  {
   "cell_type": "code",
   "execution_count": 5,
   "metadata": {},
   "outputs": [
    {
     "name": "stdout",
     "output_type": "stream",
     "text": [
      "C:\\Users\\User\\Desktop\\python-challenge\\Resources\\election_data.csv\n"
     ]
    }
   ],
   "source": [
    "print(file_path)"
   ]
  },
  {
   "cell_type": "code",
   "execution_count": 6,
   "metadata": {},
   "outputs": [],
   "source": [
    "# Variables\n",
    "total_votes = 0\n",
    "khan_votes = 0\n",
    "correy_votes = 0\n",
    "li_votes = 0\n",
    "otooley_votes = 0"
   ]
  },
  {
   "cell_type": "code",
   "execution_count": 9,
   "metadata": {},
   "outputs": [],
   "source": [
    "#open csv file in read mode\n",
    "with open(file_path, 'r') as csvfile:\n",
    "    csvreader = csv.reader(csvfile, delimiter = ',')\n",
    "    #Skip the header row\n",
    "    next(csvreader, None)\n",
    "    #Loop through each row in file\n",
    "    for row in csvreader:\n",
    "        #Count unique voters & store in variable total votes\n",
    "        total_votes +=1\n",
    "        #Loop through candidate name & count the times they appear then store in list\n",
    "        #Use these values for percent calculation in print statements\n",
    "        if row[2] == \"Khan\":\n",
    "            khan_votes +=1\n",
    "        elif row[2] == \"Correy\":\n",
    "            correy_votes +=1\n",
    "        elif row[2] == \"Li\":\n",
    "            li_votes +=1\n",
    "        elif row[2] == \"O'Tooley\":\n",
    "            otooley_votes +=1\n",
    "    "
   ]
  },
  {
   "cell_type": "code",
   "execution_count": 10,
   "metadata": {},
   "outputs": [],
   "source": [
    "#Find the winner - create an index\n",
    "candidates = [\"Khan\", \"Correy\", \"Li\", \"O'Tooley\"]\n",
    "votes = [khan_votes, correy_votes, li_votes, otooley_votes]\n"
   ]
  },
  {
   "cell_type": "code",
   "execution_count": 11,
   "metadata": {},
   "outputs": [],
   "source": [
    "#Zip the lists together & return winner using max function\n",
    "dict_candidates_and_votes = dict(zip(candidates, votes))\n",
    "key = max(dict_candidates_and_votes, key=dict_candidates_and_votes.get)"
   ]
  },
  {
   "cell_type": "code",
   "execution_count": 12,
   "metadata": {},
   "outputs": [],
   "source": [
    "#Print summary of the analysis\n",
    "khan_percent = (khan_votes/total_votes) *100\n",
    "correy_percent = (correy_votes/total_votes) *100\n",
    "li_percent = (li_votes/total_votes) *100\n",
    "otooley_percent = (otooley_votes/total_votes) *100"
   ]
  },
  {
   "cell_type": "code",
   "execution_count": 15,
   "metadata": {},
   "outputs": [
    {
     "name": "stdout",
     "output_type": "stream",
     "text": [
      "Election Results\n",
      "\n",
      "\n",
      "-------------------------\n",
      "\n",
      "\n",
      "Total Votes:  3521001\n",
      "\n",
      "\n",
      "-------------------------\n",
      "\n",
      "\n",
      "Khan: 63.000% (2218231)\n",
      "Correy: 20.000% (704200)\n",
      "Li: 14.000% (492940)\n",
      "O'Tooley: 3.000% (105630)\n",
      "\n",
      "\n",
      "-------------------------\n",
      "\n",
      "\n",
      "Winner: Khan\n",
      "\n",
      "\n",
      "-------------------------\n"
     ]
    }
   ],
   "source": [
    "#Print summary\n",
    "print(\"Election Results\")\n",
    "print('\\n')\n",
    "print(\"-------------------------\")\n",
    "print('\\n')\n",
    "print(f\"Total Votes:  {total_votes}\")\n",
    "print('\\n')\n",
    "print(\"-------------------------\")\n",
    "print('\\n')\n",
    "print(f\"Khan: {khan_percent:.3f}% ({khan_votes})\")\n",
    "print(f\"Correy: {correy_percent:.3f}% ({correy_votes})\")\n",
    "print(f\"Li: {li_percent:.3f}% ({li_votes})\")\n",
    "print(f\"O'Tooley: {otooley_percent:.3f}% ({otooley_votes})\")\n",
    "print('\\n')\n",
    "print(\"-------------------------\")\n",
    "print('\\n')\n",
    "print(f\"Winner: {key}\")\n",
    "print('\\n')\n",
    "print(\"-------------------------\")\n"
   ]
  },
  {
   "cell_type": "code",
   "execution_count": 16,
   "metadata": {},
   "outputs": [],
   "source": [
    "#Output file\n",
    "output_file = os.path.join(os.getcwd(), \"Analysis\", \"election_data.txt\")"
   ]
  },
  {
   "cell_type": "code",
   "execution_count": 19,
   "metadata": {},
   "outputs": [],
   "source": [
    "with open(output_file, \"w\") as datafile:\n",
    "    datafile.write(\"Election Results\")\n",
    "    datafile.write('\\n')\n",
    "    datafile.write(\"-------------------------\")\n",
    "    datafile.write('\\n')\n",
    "    datafile.write(f\"Total Votes:  {total_votes}\")\n",
    "    datafile.write('\\n')\n",
    "    datafile.write(\"-------------------------\")\n",
    "    datafile.write('\\n')\n",
    "    datafile.write(f\"Khan: {khan_percent:.3f}% ({khan_votes})\")\n",
    "    datafile.write('\\n')\n",
    "    datafile.write(f\"Correy: {correy_percent:.3f}% ({correy_votes})\")\n",
    "    datafile.write('\\n')\n",
    "    datafile.write(f\"Li: {li_percent:.3f}% ({li_votes})\")\n",
    "    datafile.write('\\n')\n",
    "    datafile.write(f\"O'Tooley: {otooley_percent:.3f}% ({otooley_votes})\")\n",
    "    datafile.write('\\n')\n",
    "    datafile.write(f\"-------------------------\")\n",
    "    datafile.write('\\n')\n",
    "    datafile.write(f\"Winner: {key}\")\n",
    "    datafile.write('\\n')\n",
    "    datafile.write(\"-------------------------\")\n",
    "    "
   ]
  },
  {
   "cell_type": "code",
   "execution_count": null,
   "metadata": {},
   "outputs": [],
   "source": []
  }
 ],
 "metadata": {
  "kernelspec": {
   "display_name": "Python 3",
   "language": "python",
   "name": "python3"
  },
  "language_info": {
   "codemirror_mode": {
    "name": "ipython",
    "version": 3
   },
   "file_extension": ".py",
   "mimetype": "text/x-python",
   "name": "python",
   "nbconvert_exporter": "python",
   "pygments_lexer": "ipython3",
   "version": "3.8.5"
  }
 },
 "nbformat": 4,
 "nbformat_minor": 4
}
