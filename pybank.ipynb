{
 "cells": [
  {
   "cell_type": "code",
   "execution_count": 2,
   "metadata": {},
   "outputs": [],
   "source": [
    "import os"
   ]
  },
  {
   "cell_type": "code",
   "execution_count": 3,
   "metadata": {},
   "outputs": [],
   "source": [
    "import csv"
   ]
  },
  {
   "cell_type": "code",
   "execution_count": 4,
   "metadata": {},
   "outputs": [
    {
     "data": {
      "text/plain": [
       "'C:\\\\Users\\\\User\\\\Desktop\\\\python-challenge'"
      ]
     },
     "execution_count": 4,
     "metadata": {},
     "output_type": "execute_result"
    }
   ],
   "source": [
    "os.getcwd()"
   ]
  },
  {
   "cell_type": "code",
   "execution_count": 5,
   "metadata": {},
   "outputs": [],
   "source": [
    "path = os.path.join(os.getcwd(), \"Resources\", \"budget_data.csv\")"
   ]
  },
  {
   "cell_type": "code",
   "execution_count": 6,
   "metadata": {},
   "outputs": [
    {
     "name": "stdout",
     "output_type": "stream",
     "text": [
      "C:\\Users\\User\\Desktop\\python-challenge\\Resources\\budget_data.csv\n"
     ]
    }
   ],
   "source": [
    "print(path)"
   ]
  },
  {
   "cell_type": "code",
   "execution_count": 7,
   "metadata": {},
   "outputs": [],
   "source": [
    "# create variables\n",
    "total_months = []\n",
    "total_profit = []\n",
    "monthly_profit_change = []"
   ]
  },
  {
   "cell_type": "code",
   "execution_count": 8,
   "metadata": {},
   "outputs": [],
   "source": [
    "# Open File in Read mode\n",
    "with open(path, 'r') as csvfile:\n",
    "    csvreader = csv.reader(csvfile, delimiter = ',')\n",
    "    #Skip the header row\n",
    "    header = next(csvreader)\n",
    "    #Loop through the rows\n",
    "    for row in csvreader:\n",
    "        #Append total months & profit variables to thier corresponding lists\n",
    "        total_months.append(row[0])\n",
    "        total_profit.append(int(row[1]))"
   ]
  },
  {
   "cell_type": "code",
   "execution_count": 9,
   "metadata": {},
   "outputs": [],
   "source": [
    "    #Loop through the profits to get monthly change in profits\n",
    "    for i in range(len(total_profit) - 1):\n",
    "        #Difference between months & append to monthly profit change\n",
    "        monthly_profit_change.append(total_profit[i + 1] - total_profit[i])"
   ]
  },
  {
   "cell_type": "code",
   "execution_count": 10,
   "metadata": {},
   "outputs": [],
   "source": [
    "# Get the greatest increase & decrease (date & amount)\n",
    "greatest_increase = max(monthly_profit_change)\n",
    "greatest_decrease = min(monthly_profit_change)"
   ]
  },
  {
   "cell_type": "code",
   "execution_count": 11,
   "metadata": {},
   "outputs": [],
   "source": [
    "# Assign Max & Min to thier month\n",
    "greatest_increase_month = monthly_profit_change.index(max(monthly_profit_change)) + 1\n",
    "greatest_decrease_month = monthly_profit_change.index(min(monthly_profit_change)) + 1"
   ]
  },
  {
   "cell_type": "code",
   "execution_count": 13,
   "metadata": {},
   "outputs": [
    {
     "name": "stdout",
     "output_type": "stream",
     "text": [
      "Financial Analysis\n",
      "--------------------------\n",
      "Total Months:  86\n",
      "Total:  $38382578\n",
      "Average Change:  -2315.12\n",
      "Greatest Increase In Profits:  Feb-12($1926159)\n",
      "Greatest Decrease In Profits:  Sep-13($-2196167)\n"
     ]
    }
   ],
   "source": [
    "# Print Statements\n",
    "print(\"Financial Analysis\")\n",
    "print(\"--------------------------\")\n",
    "print(f\"Total Months:  {len(total_months)}\")\n",
    "print(f\"Total:  ${sum(total_profit)}\")\n",
    "print(f\"Average Change:  {round(sum(monthly_profit_change) / len(monthly_profit_change),2)}\")\n",
    "print(f\"Greatest Increase In Profits:  {total_months[greatest_increase_month]}(${(str(greatest_increase))})\")\n",
    "print(f\"Greatest Decrease In Profits:  {total_months[greatest_decrease_month]}(${(str(greatest_decrease))})\")"
   ]
  },
  {
   "cell_type": "code",
   "execution_count": 20,
   "metadata": {},
   "outputs": [],
   "source": [
    "# Output the Files into Text\n",
    "output_file = os.path.join(os.getcwd(), \"Analysis\", \"budget_data.txt\")"
   ]
  },
  {
   "cell_type": "code",
   "execution_count": 21,
   "metadata": {},
   "outputs": [],
   "source": [
    "with open(output_file, \"w\") as datafile:\n",
    "    # Write the commands\n",
    "    datafile.write(\"Financial Analysis\")\n",
    "    datafile.write(\"--------------------------\")\n",
    "    datafile.write(f\"Total Months:  {len(total_months)}\")\n",
    "    datafile.write(f\"Total:  ${sum(total_profit)}\")\n",
    "    datafile.write(f\"Average Change:  {round(sum(monthly_profit_change) / len(monthly_profit_change),2)}\")\n",
    "    datafile.write(f\"Greatest Increase In Profits:  {total_months[greatest_increase_month]}(${(str(greatest_increase))})\")\n",
    "    datafile.write(f\"Greatest Decrease In Profits:  {total_months[greatest_decrease_month]}(${(str(greatest_decrease))})\")"
   ]
  },
  {
   "cell_type": "code",
   "execution_count": null,
   "metadata": {},
   "outputs": [],
   "source": []
  }
 ],
 "metadata": {
  "kernelspec": {
   "display_name": "Python 3",
   "language": "python",
   "name": "python3"
  },
  "language_info": {
   "codemirror_mode": {
    "name": "ipython",
    "version": 3
   },
   "file_extension": ".py",
   "mimetype": "text/x-python",
   "name": "python",
   "nbconvert_exporter": "python",
   "pygments_lexer": "ipython3",
   "version": "3.8.5"
  }
 },
 "nbformat": 4,
 "nbformat_minor": 4
}
